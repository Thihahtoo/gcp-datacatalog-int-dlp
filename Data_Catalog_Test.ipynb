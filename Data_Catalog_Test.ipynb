{
 "cells": [
  {
   "cell_type": "code",
   "execution_count": 1,
   "id": "9a77158b",
   "metadata": {},
   "outputs": [],
   "source": [
    "from google.cloud import datacatalog\n",
    "\n",
    "project_id = \"acn-uki-ds-data-ai-project\"\n",
    "dataset_id = \"data_catalog_dev\"\n",
    "table_id = \"covid_worldwide\"\n",
    "tag_template_id = \"example_tag_template\"\n",
    "\n",
    "location = \"europe-west2\""
   ]
  },
  {
   "cell_type": "code",
   "execution_count": 6,
   "id": "65e781bc",
   "metadata": {},
   "outputs": [
    {
     "data": {
      "text/plain": [
       "'projects/acn-uki-ds-data-ai-project/locations/europe-west2/tagTemplates/example_tag_template'"
      ]
     },
     "execution_count": 6,
     "metadata": {},
     "output_type": "execute_result"
    }
   ],
   "source": [
    "datacatalog_client = datacatalog.DataCatalogClient()\n",
    "\n",
    "# Create a Tag Template.\n",
    "tag_template = datacatalog.TagTemplate()\n",
    "\n",
    "tag_template.display_name = \"Demo gg Tag Template\"\n",
    "\n",
    "tag_template.fields[\"source\"] = datacatalog.TagTemplateField()\n",
    "tag_template.fields[\"source\"].display_name = \"Source of data asset\"\n",
    "tag_template.fields[\"source\"].type_.primitive_type = datacatalog.FieldType.PrimitiveType.STRING\n",
    "tag_template.fields[\"source\"].description = \"gg description\"\n",
    "tag_template.fields[\"source\"].is_required = True\n",
    "\n",
    "tag_template.fields[\"num_rows\"] = datacatalog.TagTemplateField()\n",
    "tag_template.fields[\"num_rows\"].display_name = \"Number of rows in data asset\"\n",
    "tag_template.fields[\"num_rows\"].type_.primitive_type = datacatalog.FieldType.PrimitiveType.DOUBLE\n",
    "\n",
    "tag_template.fields[\"has_pii\"] = datacatalog.TagTemplateField()\n",
    "tag_template.fields[\"has_pii\"].display_name = \"Has PII\"\n",
    "tag_template.fields[\"has_pii\"].type_.primitive_type = datacatalog.FieldType.PrimitiveType.BOOL\n",
    "\n",
    "tag_template.fields[\"pii_type\"] = datacatalog.TagTemplateField()\n",
    "tag_template.fields[\"pii_type\"].display_name = \"PII type\"\n",
    "\n",
    "for display_name in [\"EMAIL\", \"SOCIAL SECURITY NUMBER\", \"NONE\"]:\n",
    "    enum_value = datacatalog.FieldType.EnumType.EnumValue(\n",
    "        display_name=display_name\n",
    "    )\n",
    "    tag_template.fields[\"pii_type\"].type_.enum_type.allowed_values.append(\n",
    "        enum_value\n",
    "    )\n",
    "\n",
    "expected_template_name = datacatalog.DataCatalogClient.tag_template_path(\n",
    "    project_id, location, tag_template_id\n",
    ")\n",
    "expected_template_name\n",
    "tag_template.fields.proto_type."
   ]
  },
  {
   "cell_type": "code",
   "execution_count": 7,
   "id": "fb23d54f",
   "metadata": {},
   "outputs": [
    {
     "ename": "AttributeError",
     "evalue": "'MapComposite' object has no attribute 'proto_type'",
     "output_type": "error",
     "traceback": [
      "\u001b[0;31m---------------------------------------------------------------------------\u001b[0m",
      "\u001b[0;31mAttributeError\u001b[0m                            Traceback (most recent call last)",
      "\u001b[0;32m/tmp/ipykernel_28181/75173135.py\u001b[0m in \u001b[0;36m<module>\u001b[0;34m\u001b[0m\n\u001b[0;32m----> 1\u001b[0;31m \u001b[0mhelp\u001b[0m\u001b[0;34m(\u001b[0m\u001b[0mtag_template\u001b[0m\u001b[0;34m.\u001b[0m\u001b[0mfields\u001b[0m\u001b[0;34m.\u001b[0m\u001b[0mproto_type\u001b[0m\u001b[0;34m)\u001b[0m\u001b[0;34m\u001b[0m\u001b[0;34m\u001b[0m\u001b[0m\n\u001b[0m",
      "\u001b[0;31mAttributeError\u001b[0m: 'MapComposite' object has no attribute 'proto_type'"
     ]
    }
   ],
   "source": [
    "datacatalog_client.search_catalog().results"
   ]
  },
  {
   "cell_type": "code",
   "execution_count": 19,
   "id": "2bb2a97a",
   "metadata": {
    "scrolled": false
   },
   "outputs": [
    {
     "name": "stdout",
     "output_type": "stream",
     "text": [
      "Created template: projects/acn-uki-ds-data-ai-project/locations/europe-west2/tagTemplates/example_tag_template\n"
     ]
    }
   ],
   "source": [
    "# Create the Tag Template.\n",
    "try:\n",
    "    tag_template = datacatalog_client.create_tag_template(\n",
    "        parent=f\"projects/{project_id}/locations/{location}\",\n",
    "        tag_template_id=tag_template_id,\n",
    "        tag_template=tag_template,\n",
    "    )\n",
    "    print(f\"Created template: {tag_template.name}\")\n",
    "except OSError as e:\n",
    "    print(f\"Cannot create template: {expected_template_name}\")\n",
    "    print(f\"{e}\")\n"
   ]
  },
  {
   "cell_type": "code",
   "execution_count": null,
   "id": "e7e98390",
   "metadata": {},
   "outputs": [],
   "source": [
    "tag = datacatalog.\n",
    "tag.fields.pb_type"
   ]
  },
  {
   "cell_type": "code",
   "execution_count": 6,
   "id": "22700993",
   "metadata": {
    "scrolled": true
   },
   "outputs": [
    {
     "ename": "PermissionDenied",
     "evalue": "403 Google Cloud Data Catalog API has not been used in project 32555940559 before or it is disabled. Enable it by visiting https://console.developers.google.com/apis/api/datacatalog.googleapis.com/overview?project=32555940559 then retry. If you enabled this API recently, wait a few minutes for the action to propagate to our systems and retry.",
     "output_type": "error",
     "traceback": [
      "\u001b[0;31m---------------------------------------------------------------------------\u001b[0m",
      "\u001b[0;31m_InactiveRpcError\u001b[0m                         Traceback (most recent call last)",
      "\u001b[0;32m/usr/local/lib/python3.8/dist-packages/google/api_core/grpc_helpers.py\u001b[0m in \u001b[0;36merror_remapped_callable\u001b[0;34m(*args, **kwargs)\u001b[0m\n\u001b[1;32m     65\u001b[0m         \u001b[0;32mtry\u001b[0m\u001b[0;34m:\u001b[0m\u001b[0;34m\u001b[0m\u001b[0;34m\u001b[0m\u001b[0m\n\u001b[0;32m---> 66\u001b[0;31m             \u001b[0;32mreturn\u001b[0m \u001b[0mcallable_\u001b[0m\u001b[0;34m(\u001b[0m\u001b[0;34m*\u001b[0m\u001b[0margs\u001b[0m\u001b[0;34m,\u001b[0m \u001b[0;34m**\u001b[0m\u001b[0mkwargs\u001b[0m\u001b[0;34m)\u001b[0m\u001b[0;34m\u001b[0m\u001b[0;34m\u001b[0m\u001b[0m\n\u001b[0m\u001b[1;32m     67\u001b[0m         \u001b[0;32mexcept\u001b[0m \u001b[0mgrpc\u001b[0m\u001b[0;34m.\u001b[0m\u001b[0mRpcError\u001b[0m \u001b[0;32mas\u001b[0m \u001b[0mexc\u001b[0m\u001b[0;34m:\u001b[0m\u001b[0;34m\u001b[0m\u001b[0;34m\u001b[0m\u001b[0m\n",
      "\u001b[0;32m/usr/local/lib/python3.8/dist-packages/grpc/_channel.py\u001b[0m in \u001b[0;36m__call__\u001b[0;34m(self, request, timeout, metadata, credentials, wait_for_ready, compression)\u001b[0m\n\u001b[1;32m    945\u001b[0m                                       wait_for_ready, compression)\n\u001b[0;32m--> 946\u001b[0;31m         \u001b[0;32mreturn\u001b[0m \u001b[0m_end_unary_response_blocking\u001b[0m\u001b[0;34m(\u001b[0m\u001b[0mstate\u001b[0m\u001b[0;34m,\u001b[0m \u001b[0mcall\u001b[0m\u001b[0;34m,\u001b[0m \u001b[0;32mFalse\u001b[0m\u001b[0;34m,\u001b[0m \u001b[0;32mNone\u001b[0m\u001b[0;34m)\u001b[0m\u001b[0;34m\u001b[0m\u001b[0;34m\u001b[0m\u001b[0m\n\u001b[0m\u001b[1;32m    947\u001b[0m \u001b[0;34m\u001b[0m\u001b[0m\n",
      "\u001b[0;32m/usr/local/lib/python3.8/dist-packages/grpc/_channel.py\u001b[0m in \u001b[0;36m_end_unary_response_blocking\u001b[0;34m(state, call, with_call, deadline)\u001b[0m\n\u001b[1;32m    848\u001b[0m     \u001b[0;32melse\u001b[0m\u001b[0;34m:\u001b[0m\u001b[0;34m\u001b[0m\u001b[0;34m\u001b[0m\u001b[0m\n\u001b[0;32m--> 849\u001b[0;31m         \u001b[0;32mraise\u001b[0m \u001b[0m_InactiveRpcError\u001b[0m\u001b[0;34m(\u001b[0m\u001b[0mstate\u001b[0m\u001b[0;34m)\u001b[0m\u001b[0;34m\u001b[0m\u001b[0;34m\u001b[0m\u001b[0m\n\u001b[0m\u001b[1;32m    850\u001b[0m \u001b[0;34m\u001b[0m\u001b[0m\n",
      "\u001b[0;31m_InactiveRpcError\u001b[0m: <_InactiveRpcError of RPC that terminated with:\n\tstatus = StatusCode.PERMISSION_DENIED\n\tdetails = \"Google Cloud Data Catalog API has not been used in project 32555940559 before or it is disabled. Enable it by visiting https://console.developers.google.com/apis/api/datacatalog.googleapis.com/overview?project=32555940559 then retry. If you enabled this API recently, wait a few minutes for the action to propagate to our systems and retry.\"\n\tdebug_error_string = \"{\"created\":\"@1635603390.192924000\",\"description\":\"Error received from peer ipv4:216.58.212.202:443\",\"file\":\"src/core/lib/surface/call.cc\",\"file_line\":1069,\"grpc_message\":\"Google Cloud Data Catalog API has not been used in project 32555940559 before or it is disabled. Enable it by visiting https://console.developers.google.com/apis/api/datacatalog.googleapis.com/overview?project=32555940559 then retry. If you enabled this API recently, wait a few minutes for the action to propagate to our systems and retry.\",\"grpc_status\":7}\"\n>",
      "\nThe above exception was the direct cause of the following exception:\n",
      "\u001b[0;31mPermissionDenied\u001b[0m                          Traceback (most recent call last)",
      "\u001b[0;32m/tmp/ipykernel_26133/538635176.py\u001b[0m in \u001b[0;36m<module>\u001b[0;34m\u001b[0m\n\u001b[1;32m      1\u001b[0m \u001b[0mrequest\u001b[0m \u001b[0;34m=\u001b[0m \u001b[0mdatacatalog\u001b[0m\u001b[0;34m.\u001b[0m\u001b[0mListTagsRequest\u001b[0m\u001b[0;34m(\u001b[0m\u001b[0;34m)\u001b[0m\u001b[0;34m\u001b[0m\u001b[0;34m\u001b[0m\u001b[0m\n\u001b[1;32m      2\u001b[0m \u001b[0mrequest\u001b[0m\u001b[0;34m.\u001b[0m\u001b[0mparent\u001b[0m\u001b[0;34m=\u001b[0m\u001b[0;34m\"projects/acn-uki-ds-data-ai-project/locations/eu/entryGroups/@bigquery/entries/cHJvamVjdHMvYWNuLXVraS1kcy1kYXRhLWFpLXByb2plY3QvZGF0YXNldHMvZGF0YV9jYXRhbG9nX2Rldi90YWJsZXMvY292aWRfd29ybGR3aWRl\"\u001b[0m\u001b[0;34m\u001b[0m\u001b[0;34m\u001b[0m\u001b[0m\n\u001b[0;32m----> 3\u001b[0;31m \u001b[0mdatacatalog_client\u001b[0m\u001b[0;34m.\u001b[0m\u001b[0mlist_tags\u001b[0m\u001b[0;34m(\u001b[0m\u001b[0mrequest\u001b[0m\u001b[0;34m=\u001b[0m\u001b[0mrequest\u001b[0m\u001b[0;34m)\u001b[0m\u001b[0;34m\u001b[0m\u001b[0;34m\u001b[0m\u001b[0m\n\u001b[0m",
      "\u001b[0;32m/usr/local/lib/python3.8/dist-packages/google/cloud/datacatalog_v1/services/data_catalog/client.py\u001b[0m in \u001b[0;36mlist_tags\u001b[0;34m(self, request, parent, retry, timeout, metadata)\u001b[0m\n\u001b[1;32m   2756\u001b[0m \u001b[0;34m\u001b[0m\u001b[0m\n\u001b[1;32m   2757\u001b[0m         \u001b[0;31m# Send the request.\u001b[0m\u001b[0;34m\u001b[0m\u001b[0;34m\u001b[0m\u001b[0;34m\u001b[0m\u001b[0m\n\u001b[0;32m-> 2758\u001b[0;31m         \u001b[0mresponse\u001b[0m \u001b[0;34m=\u001b[0m \u001b[0mrpc\u001b[0m\u001b[0;34m(\u001b[0m\u001b[0mrequest\u001b[0m\u001b[0;34m,\u001b[0m \u001b[0mretry\u001b[0m\u001b[0;34m=\u001b[0m\u001b[0mretry\u001b[0m\u001b[0;34m,\u001b[0m \u001b[0mtimeout\u001b[0m\u001b[0;34m=\u001b[0m\u001b[0mtimeout\u001b[0m\u001b[0;34m,\u001b[0m \u001b[0mmetadata\u001b[0m\u001b[0;34m=\u001b[0m\u001b[0mmetadata\u001b[0m\u001b[0;34m,\u001b[0m\u001b[0;34m)\u001b[0m\u001b[0;34m\u001b[0m\u001b[0;34m\u001b[0m\u001b[0m\n\u001b[0m\u001b[1;32m   2759\u001b[0m \u001b[0;34m\u001b[0m\u001b[0m\n\u001b[1;32m   2760\u001b[0m         \u001b[0;31m# This method is paged; wrap the response in a pager, which provides\u001b[0m\u001b[0;34m\u001b[0m\u001b[0;34m\u001b[0m\u001b[0;34m\u001b[0m\u001b[0m\n",
      "\u001b[0;32m/usr/local/lib/python3.8/dist-packages/google/api_core/gapic_v1/method.py\u001b[0m in \u001b[0;36m__call__\u001b[0;34m(self, timeout, retry, *args, **kwargs)\u001b[0m\n\u001b[1;32m    140\u001b[0m             \u001b[0mkwargs\u001b[0m\u001b[0;34m[\u001b[0m\u001b[0;34m\"metadata\"\u001b[0m\u001b[0;34m]\u001b[0m \u001b[0;34m=\u001b[0m \u001b[0mmetadata\u001b[0m\u001b[0;34m\u001b[0m\u001b[0;34m\u001b[0m\u001b[0m\n\u001b[1;32m    141\u001b[0m \u001b[0;34m\u001b[0m\u001b[0m\n\u001b[0;32m--> 142\u001b[0;31m         \u001b[0;32mreturn\u001b[0m \u001b[0mwrapped_func\u001b[0m\u001b[0;34m(\u001b[0m\u001b[0;34m*\u001b[0m\u001b[0margs\u001b[0m\u001b[0;34m,\u001b[0m \u001b[0;34m**\u001b[0m\u001b[0mkwargs\u001b[0m\u001b[0;34m)\u001b[0m\u001b[0;34m\u001b[0m\u001b[0;34m\u001b[0m\u001b[0m\n\u001b[0m\u001b[1;32m    143\u001b[0m \u001b[0;34m\u001b[0m\u001b[0m\n\u001b[1;32m    144\u001b[0m \u001b[0;34m\u001b[0m\u001b[0m\n",
      "\u001b[0;32m/usr/local/lib/python3.8/dist-packages/google/api_core/retry.py\u001b[0m in \u001b[0;36mretry_wrapped_func\u001b[0;34m(*args, **kwargs)\u001b[0m\n\u001b[1;32m    281\u001b[0m                 \u001b[0mself\u001b[0m\u001b[0;34m.\u001b[0m\u001b[0m_initial\u001b[0m\u001b[0;34m,\u001b[0m \u001b[0mself\u001b[0m\u001b[0;34m.\u001b[0m\u001b[0m_maximum\u001b[0m\u001b[0;34m,\u001b[0m \u001b[0mmultiplier\u001b[0m\u001b[0;34m=\u001b[0m\u001b[0mself\u001b[0m\u001b[0;34m.\u001b[0m\u001b[0m_multiplier\u001b[0m\u001b[0;34m\u001b[0m\u001b[0;34m\u001b[0m\u001b[0m\n\u001b[1;32m    282\u001b[0m             )\n\u001b[0;32m--> 283\u001b[0;31m             return retry_target(\n\u001b[0m\u001b[1;32m    284\u001b[0m                 \u001b[0mtarget\u001b[0m\u001b[0;34m,\u001b[0m\u001b[0;34m\u001b[0m\u001b[0;34m\u001b[0m\u001b[0m\n\u001b[1;32m    285\u001b[0m                 \u001b[0mself\u001b[0m\u001b[0;34m.\u001b[0m\u001b[0m_predicate\u001b[0m\u001b[0;34m,\u001b[0m\u001b[0;34m\u001b[0m\u001b[0;34m\u001b[0m\u001b[0m\n",
      "\u001b[0;32m/usr/local/lib/python3.8/dist-packages/google/api_core/retry.py\u001b[0m in \u001b[0;36mretry_target\u001b[0;34m(target, predicate, sleep_generator, deadline, on_error)\u001b[0m\n\u001b[1;32m    188\u001b[0m     \u001b[0;32mfor\u001b[0m \u001b[0msleep\u001b[0m \u001b[0;32min\u001b[0m \u001b[0msleep_generator\u001b[0m\u001b[0;34m:\u001b[0m\u001b[0;34m\u001b[0m\u001b[0;34m\u001b[0m\u001b[0m\n\u001b[1;32m    189\u001b[0m         \u001b[0;32mtry\u001b[0m\u001b[0;34m:\u001b[0m\u001b[0;34m\u001b[0m\u001b[0;34m\u001b[0m\u001b[0m\n\u001b[0;32m--> 190\u001b[0;31m             \u001b[0;32mreturn\u001b[0m \u001b[0mtarget\u001b[0m\u001b[0;34m(\u001b[0m\u001b[0;34m)\u001b[0m\u001b[0;34m\u001b[0m\u001b[0;34m\u001b[0m\u001b[0m\n\u001b[0m\u001b[1;32m    191\u001b[0m \u001b[0;34m\u001b[0m\u001b[0m\n\u001b[1;32m    192\u001b[0m         \u001b[0;31m# pylint: disable=broad-except\u001b[0m\u001b[0;34m\u001b[0m\u001b[0;34m\u001b[0m\u001b[0;34m\u001b[0m\u001b[0m\n",
      "\u001b[0;32m/usr/local/lib/python3.8/dist-packages/google/api_core/grpc_helpers.py\u001b[0m in \u001b[0;36merror_remapped_callable\u001b[0;34m(*args, **kwargs)\u001b[0m\n\u001b[1;32m     66\u001b[0m             \u001b[0;32mreturn\u001b[0m \u001b[0mcallable_\u001b[0m\u001b[0;34m(\u001b[0m\u001b[0;34m*\u001b[0m\u001b[0margs\u001b[0m\u001b[0;34m,\u001b[0m \u001b[0;34m**\u001b[0m\u001b[0mkwargs\u001b[0m\u001b[0;34m)\u001b[0m\u001b[0;34m\u001b[0m\u001b[0;34m\u001b[0m\u001b[0m\n\u001b[1;32m     67\u001b[0m         \u001b[0;32mexcept\u001b[0m \u001b[0mgrpc\u001b[0m\u001b[0;34m.\u001b[0m\u001b[0mRpcError\u001b[0m \u001b[0;32mas\u001b[0m \u001b[0mexc\u001b[0m\u001b[0;34m:\u001b[0m\u001b[0;34m\u001b[0m\u001b[0;34m\u001b[0m\u001b[0m\n\u001b[0;32m---> 68\u001b[0;31m             \u001b[0;32mraise\u001b[0m \u001b[0mexceptions\u001b[0m\u001b[0;34m.\u001b[0m\u001b[0mfrom_grpc_error\u001b[0m\u001b[0;34m(\u001b[0m\u001b[0mexc\u001b[0m\u001b[0;34m)\u001b[0m \u001b[0;32mfrom\u001b[0m \u001b[0mexc\u001b[0m\u001b[0;34m\u001b[0m\u001b[0;34m\u001b[0m\u001b[0m\n\u001b[0m\u001b[1;32m     69\u001b[0m \u001b[0;34m\u001b[0m\u001b[0m\n\u001b[1;32m     70\u001b[0m     \u001b[0;32mreturn\u001b[0m \u001b[0merror_remapped_callable\u001b[0m\u001b[0;34m\u001b[0m\u001b[0;34m\u001b[0m\u001b[0m\n",
      "\u001b[0;31mPermissionDenied\u001b[0m: 403 Google Cloud Data Catalog API has not been used in project 32555940559 before or it is disabled. Enable it by visiting https://console.developers.google.com/apis/api/datacatalog.googleapis.com/overview?project=32555940559 then retry. If you enabled this API recently, wait a few minutes for the action to propagate to our systems and retry."
     ]
    }
   ],
   "source": [
    "request = datacatalog.DeleteTagRequest()\n",
    "request.name=\"projects/acn-uki-ds-data-ai-project/locations/eu/entryGroups/@bigquery/entries/cHJvamVjdHMvYWNuLXVraS1kcy1kYXRhLWFpLXByb2plY3QvZGF0YXNldHMvZGF0YV9jYXRhbG9nX2Rldi90YWJsZXMvY292aWRfd29ybGR3aWRl\"\n",
    "datacatalog_client.de(request=request)."
   ]
  },
  {
   "cell_type": "code",
   "execution_count": 5,
   "id": "a46f7be1",
   "metadata": {},
   "outputs": [
    {
     "name": "stdout",
     "output_type": "stream",
     "text": [
      "Help on method delete_tag in module google.cloud.datacatalog_v1.services.data_catalog.client:\n",
      "\n",
      "delete_tag(request: Union[google.cloud.datacatalog_v1.types.datacatalog.DeleteTagRequest, dict] = None, *, name: str = None, retry: google.api_core.retry.Retry = <object object at 0x7fc9a5620290>, timeout: float = None, metadata: Sequence[Tuple[str, str]] = ()) -> None method of google.cloud.datacatalog_v1.services.data_catalog.client.DataCatalogClient instance\n",
      "    Deletes a tag.\n",
      "    \n",
      "    Args:\n",
      "        request (Union[google.cloud.datacatalog_v1.types.DeleteTagRequest, dict]):\n",
      "            The request object. Request message for\n",
      "            [DeleteTag][google.cloud.datacatalog.v1.DataCatalog.DeleteTag].\n",
      "        name (str):\n",
      "            Required. The name of the tag to\n",
      "            delete.\n",
      "    \n",
      "            This corresponds to the ``name`` field\n",
      "            on the ``request`` instance; if ``request`` is provided, this\n",
      "            should not be set.\n",
      "        retry (google.api_core.retry.Retry): Designation of what errors, if any,\n",
      "            should be retried.\n",
      "        timeout (float): The timeout for this request.\n",
      "        metadata (Sequence[Tuple[str, str]]): Strings which should be\n",
      "            sent along with the request as metadata.\n",
      "\n"
     ]
    }
   ],
   "source": [
    "help(datacatalog_client.delete_tag)"
   ]
  },
  {
   "cell_type": "code",
   "execution_count": 2,
   "id": "079e072a",
   "metadata": {},
   "outputs": [
    {
     "name": "stdout",
     "output_type": "stream",
     "text": [
      "//bigquery.googleapis.com/projects/acn-uki-ds-data-ai-project/datasets/data_catalog_dev/tables/covid_worldwide\n"
     ]
    },
    {
     "ename": "PermissionDenied",
     "evalue": "403 Google Cloud Data Catalog API has not been used in project 32555940559 before or it is disabled. Enable it by visiting https://console.developers.google.com/apis/api/datacatalog.googleapis.com/overview?project=32555940559 then retry. If you enabled this API recently, wait a few minutes for the action to propagate to our systems and retry.",
     "output_type": "error",
     "traceback": [
      "\u001b[0;31m---------------------------------------------------------------------------\u001b[0m",
      "\u001b[0;31m_InactiveRpcError\u001b[0m                         Traceback (most recent call last)",
      "\u001b[0;32m/usr/local/lib/python3.8/dist-packages/google/api_core/grpc_helpers.py\u001b[0m in \u001b[0;36merror_remapped_callable\u001b[0;34m(*args, **kwargs)\u001b[0m\n\u001b[1;32m     65\u001b[0m         \u001b[0;32mtry\u001b[0m\u001b[0;34m:\u001b[0m\u001b[0;34m\u001b[0m\u001b[0;34m\u001b[0m\u001b[0m\n\u001b[0;32m---> 66\u001b[0;31m             \u001b[0;32mreturn\u001b[0m \u001b[0mcallable_\u001b[0m\u001b[0;34m(\u001b[0m\u001b[0;34m*\u001b[0m\u001b[0margs\u001b[0m\u001b[0;34m,\u001b[0m \u001b[0;34m**\u001b[0m\u001b[0mkwargs\u001b[0m\u001b[0;34m)\u001b[0m\u001b[0;34m\u001b[0m\u001b[0;34m\u001b[0m\u001b[0m\n\u001b[0m\u001b[1;32m     67\u001b[0m         \u001b[0;32mexcept\u001b[0m \u001b[0mgrpc\u001b[0m\u001b[0;34m.\u001b[0m\u001b[0mRpcError\u001b[0m \u001b[0;32mas\u001b[0m \u001b[0mexc\u001b[0m\u001b[0;34m:\u001b[0m\u001b[0;34m\u001b[0m\u001b[0;34m\u001b[0m\u001b[0m\n",
      "\u001b[0;32m/usr/local/lib/python3.8/dist-packages/grpc/_channel.py\u001b[0m in \u001b[0;36m__call__\u001b[0;34m(self, request, timeout, metadata, credentials, wait_for_ready, compression)\u001b[0m\n\u001b[1;32m    945\u001b[0m                                       wait_for_ready, compression)\n\u001b[0;32m--> 946\u001b[0;31m         \u001b[0;32mreturn\u001b[0m \u001b[0m_end_unary_response_blocking\u001b[0m\u001b[0;34m(\u001b[0m\u001b[0mstate\u001b[0m\u001b[0;34m,\u001b[0m \u001b[0mcall\u001b[0m\u001b[0;34m,\u001b[0m \u001b[0;32mFalse\u001b[0m\u001b[0;34m,\u001b[0m \u001b[0;32mNone\u001b[0m\u001b[0;34m)\u001b[0m\u001b[0;34m\u001b[0m\u001b[0;34m\u001b[0m\u001b[0m\n\u001b[0m\u001b[1;32m    947\u001b[0m \u001b[0;34m\u001b[0m\u001b[0m\n",
      "\u001b[0;32m/usr/local/lib/python3.8/dist-packages/grpc/_channel.py\u001b[0m in \u001b[0;36m_end_unary_response_blocking\u001b[0;34m(state, call, with_call, deadline)\u001b[0m\n\u001b[1;32m    848\u001b[0m     \u001b[0;32melse\u001b[0m\u001b[0;34m:\u001b[0m\u001b[0;34m\u001b[0m\u001b[0;34m\u001b[0m\u001b[0m\n\u001b[0;32m--> 849\u001b[0;31m         \u001b[0;32mraise\u001b[0m \u001b[0m_InactiveRpcError\u001b[0m\u001b[0;34m(\u001b[0m\u001b[0mstate\u001b[0m\u001b[0;34m)\u001b[0m\u001b[0;34m\u001b[0m\u001b[0;34m\u001b[0m\u001b[0m\n\u001b[0m\u001b[1;32m    850\u001b[0m \u001b[0;34m\u001b[0m\u001b[0m\n",
      "\u001b[0;31m_InactiveRpcError\u001b[0m: <_InactiveRpcError of RPC that terminated with:\n\tstatus = StatusCode.PERMISSION_DENIED\n\tdetails = \"Google Cloud Data Catalog API has not been used in project 32555940559 before or it is disabled. Enable it by visiting https://console.developers.google.com/apis/api/datacatalog.googleapis.com/overview?project=32555940559 then retry. If you enabled this API recently, wait a few minutes for the action to propagate to our systems and retry.\"\n\tdebug_error_string = \"{\"created\":\"@1635603513.019382400\",\"description\":\"Error received from peer ipv4:216.58.212.202:443\",\"file\":\"src/core/lib/surface/call.cc\",\"file_line\":1069,\"grpc_message\":\"Google Cloud Data Catalog API has not been used in project 32555940559 before or it is disabled. Enable it by visiting https://console.developers.google.com/apis/api/datacatalog.googleapis.com/overview?project=32555940559 then retry. If you enabled this API recently, wait a few minutes for the action to propagate to our systems and retry.\",\"grpc_status\":7}\"\n>",
      "\nThe above exception was the direct cause of the following exception:\n",
      "\u001b[0;31mPermissionDenied\u001b[0m                          Traceback (most recent call last)",
      "\u001b[0;32m/tmp/ipykernel_28181/1706226418.py\u001b[0m in \u001b[0;36m<module>\u001b[0;34m\u001b[0m\n\u001b[1;32m      6\u001b[0m )\n\u001b[1;32m      7\u001b[0m \u001b[0mprint\u001b[0m\u001b[0;34m(\u001b[0m\u001b[0mresource_name\u001b[0m\u001b[0;34m)\u001b[0m\u001b[0;34m\u001b[0m\u001b[0;34m\u001b[0m\u001b[0m\n\u001b[0;32m----> 8\u001b[0;31m table_entry = datacatalog_client.lookup_entry(\n\u001b[0m\u001b[1;32m      9\u001b[0m     \u001b[0mrequest\u001b[0m\u001b[0;34m=\u001b[0m\u001b[0;34m{\u001b[0m\u001b[0;34m\"linked_resource\"\u001b[0m\u001b[0;34m:\u001b[0m \u001b[0mresource_name\u001b[0m\u001b[0;34m}\u001b[0m\u001b[0;34m\u001b[0m\u001b[0;34m\u001b[0m\u001b[0m\n\u001b[1;32m     10\u001b[0m )\n",
      "\u001b[0;32m/usr/local/lib/python3.8/dist-packages/google/cloud/datacatalog_v1/services/data_catalog/client.py\u001b[0m in \u001b[0;36mlookup_entry\u001b[0;34m(self, request, retry, timeout, metadata)\u001b[0m\n\u001b[1;32m   1481\u001b[0m \u001b[0;34m\u001b[0m\u001b[0m\n\u001b[1;32m   1482\u001b[0m         \u001b[0;31m# Send the request.\u001b[0m\u001b[0;34m\u001b[0m\u001b[0;34m\u001b[0m\u001b[0;34m\u001b[0m\u001b[0m\n\u001b[0;32m-> 1483\u001b[0;31m         \u001b[0mresponse\u001b[0m \u001b[0;34m=\u001b[0m \u001b[0mrpc\u001b[0m\u001b[0;34m(\u001b[0m\u001b[0mrequest\u001b[0m\u001b[0;34m,\u001b[0m \u001b[0mretry\u001b[0m\u001b[0;34m=\u001b[0m\u001b[0mretry\u001b[0m\u001b[0;34m,\u001b[0m \u001b[0mtimeout\u001b[0m\u001b[0;34m=\u001b[0m\u001b[0mtimeout\u001b[0m\u001b[0;34m,\u001b[0m \u001b[0mmetadata\u001b[0m\u001b[0;34m=\u001b[0m\u001b[0mmetadata\u001b[0m\u001b[0;34m,\u001b[0m\u001b[0;34m)\u001b[0m\u001b[0;34m\u001b[0m\u001b[0;34m\u001b[0m\u001b[0m\n\u001b[0m\u001b[1;32m   1484\u001b[0m \u001b[0;34m\u001b[0m\u001b[0m\n\u001b[1;32m   1485\u001b[0m         \u001b[0;31m# Done; return the response.\u001b[0m\u001b[0;34m\u001b[0m\u001b[0;34m\u001b[0m\u001b[0;34m\u001b[0m\u001b[0m\n",
      "\u001b[0;32m/usr/local/lib/python3.8/dist-packages/google/api_core/gapic_v1/method.py\u001b[0m in \u001b[0;36m__call__\u001b[0;34m(self, timeout, retry, *args, **kwargs)\u001b[0m\n\u001b[1;32m    140\u001b[0m             \u001b[0mkwargs\u001b[0m\u001b[0;34m[\u001b[0m\u001b[0;34m\"metadata\"\u001b[0m\u001b[0;34m]\u001b[0m \u001b[0;34m=\u001b[0m \u001b[0mmetadata\u001b[0m\u001b[0;34m\u001b[0m\u001b[0;34m\u001b[0m\u001b[0m\n\u001b[1;32m    141\u001b[0m \u001b[0;34m\u001b[0m\u001b[0m\n\u001b[0;32m--> 142\u001b[0;31m         \u001b[0;32mreturn\u001b[0m \u001b[0mwrapped_func\u001b[0m\u001b[0;34m(\u001b[0m\u001b[0;34m*\u001b[0m\u001b[0margs\u001b[0m\u001b[0;34m,\u001b[0m \u001b[0;34m**\u001b[0m\u001b[0mkwargs\u001b[0m\u001b[0;34m)\u001b[0m\u001b[0;34m\u001b[0m\u001b[0;34m\u001b[0m\u001b[0m\n\u001b[0m\u001b[1;32m    143\u001b[0m \u001b[0;34m\u001b[0m\u001b[0m\n\u001b[1;32m    144\u001b[0m \u001b[0;34m\u001b[0m\u001b[0m\n",
      "\u001b[0;32m/usr/local/lib/python3.8/dist-packages/google/api_core/retry.py\u001b[0m in \u001b[0;36mretry_wrapped_func\u001b[0;34m(*args, **kwargs)\u001b[0m\n\u001b[1;32m    281\u001b[0m                 \u001b[0mself\u001b[0m\u001b[0;34m.\u001b[0m\u001b[0m_initial\u001b[0m\u001b[0;34m,\u001b[0m \u001b[0mself\u001b[0m\u001b[0;34m.\u001b[0m\u001b[0m_maximum\u001b[0m\u001b[0;34m,\u001b[0m \u001b[0mmultiplier\u001b[0m\u001b[0;34m=\u001b[0m\u001b[0mself\u001b[0m\u001b[0;34m.\u001b[0m\u001b[0m_multiplier\u001b[0m\u001b[0;34m\u001b[0m\u001b[0;34m\u001b[0m\u001b[0m\n\u001b[1;32m    282\u001b[0m             )\n\u001b[0;32m--> 283\u001b[0;31m             return retry_target(\n\u001b[0m\u001b[1;32m    284\u001b[0m                 \u001b[0mtarget\u001b[0m\u001b[0;34m,\u001b[0m\u001b[0;34m\u001b[0m\u001b[0;34m\u001b[0m\u001b[0m\n\u001b[1;32m    285\u001b[0m                 \u001b[0mself\u001b[0m\u001b[0;34m.\u001b[0m\u001b[0m_predicate\u001b[0m\u001b[0;34m,\u001b[0m\u001b[0;34m\u001b[0m\u001b[0;34m\u001b[0m\u001b[0m\n",
      "\u001b[0;32m/usr/local/lib/python3.8/dist-packages/google/api_core/retry.py\u001b[0m in \u001b[0;36mretry_target\u001b[0;34m(target, predicate, sleep_generator, deadline, on_error)\u001b[0m\n\u001b[1;32m    188\u001b[0m     \u001b[0;32mfor\u001b[0m \u001b[0msleep\u001b[0m \u001b[0;32min\u001b[0m \u001b[0msleep_generator\u001b[0m\u001b[0;34m:\u001b[0m\u001b[0;34m\u001b[0m\u001b[0;34m\u001b[0m\u001b[0m\n\u001b[1;32m    189\u001b[0m         \u001b[0;32mtry\u001b[0m\u001b[0;34m:\u001b[0m\u001b[0;34m\u001b[0m\u001b[0;34m\u001b[0m\u001b[0m\n\u001b[0;32m--> 190\u001b[0;31m             \u001b[0;32mreturn\u001b[0m \u001b[0mtarget\u001b[0m\u001b[0;34m(\u001b[0m\u001b[0;34m)\u001b[0m\u001b[0;34m\u001b[0m\u001b[0;34m\u001b[0m\u001b[0m\n\u001b[0m\u001b[1;32m    191\u001b[0m \u001b[0;34m\u001b[0m\u001b[0m\n\u001b[1;32m    192\u001b[0m         \u001b[0;31m# pylint: disable=broad-except\u001b[0m\u001b[0;34m\u001b[0m\u001b[0;34m\u001b[0m\u001b[0;34m\u001b[0m\u001b[0m\n",
      "\u001b[0;32m/usr/local/lib/python3.8/dist-packages/google/api_core/grpc_helpers.py\u001b[0m in \u001b[0;36merror_remapped_callable\u001b[0;34m(*args, **kwargs)\u001b[0m\n\u001b[1;32m     66\u001b[0m             \u001b[0;32mreturn\u001b[0m \u001b[0mcallable_\u001b[0m\u001b[0;34m(\u001b[0m\u001b[0;34m*\u001b[0m\u001b[0margs\u001b[0m\u001b[0;34m,\u001b[0m \u001b[0;34m**\u001b[0m\u001b[0mkwargs\u001b[0m\u001b[0;34m)\u001b[0m\u001b[0;34m\u001b[0m\u001b[0;34m\u001b[0m\u001b[0m\n\u001b[1;32m     67\u001b[0m         \u001b[0;32mexcept\u001b[0m \u001b[0mgrpc\u001b[0m\u001b[0;34m.\u001b[0m\u001b[0mRpcError\u001b[0m \u001b[0;32mas\u001b[0m \u001b[0mexc\u001b[0m\u001b[0;34m:\u001b[0m\u001b[0;34m\u001b[0m\u001b[0;34m\u001b[0m\u001b[0m\n\u001b[0;32m---> 68\u001b[0;31m             \u001b[0;32mraise\u001b[0m \u001b[0mexceptions\u001b[0m\u001b[0;34m.\u001b[0m\u001b[0mfrom_grpc_error\u001b[0m\u001b[0;34m(\u001b[0m\u001b[0mexc\u001b[0m\u001b[0;34m)\u001b[0m \u001b[0;32mfrom\u001b[0m \u001b[0mexc\u001b[0m\u001b[0;34m\u001b[0m\u001b[0;34m\u001b[0m\u001b[0m\n\u001b[0m\u001b[1;32m     69\u001b[0m \u001b[0;34m\u001b[0m\u001b[0m\n\u001b[1;32m     70\u001b[0m     \u001b[0;32mreturn\u001b[0m \u001b[0merror_remapped_callable\u001b[0m\u001b[0;34m\u001b[0m\u001b[0;34m\u001b[0m\u001b[0m\n",
      "\u001b[0;31mPermissionDenied\u001b[0m: 403 Google Cloud Data Catalog API has not been used in project 32555940559 before or it is disabled. Enable it by visiting https://console.developers.google.com/apis/api/datacatalog.googleapis.com/overview?project=32555940559 then retry. If you enabled this API recently, wait a few minutes for the action to propagate to our systems and retry."
     ]
    }
   ],
   "source": [
    "from google.cloud import datacatalog\n",
    "datacatalog_client = datacatalog.DataCatalogClient()\n",
    "resource_name = (\n",
    "    f\"//bigquery.googleapis.com/projects/{project_id}\"\n",
    "    f\"/datasets/{dataset_id}/tables/{table_id}\"\n",
    ")\n",
    "print(resource_name)\n",
    "table_entry = datacatalog_client.lookup_entry(\n",
    "    request={\"linked_resource\": resource_name}\n",
    ")\n",
    "table_entry"
   ]
  },
  {
   "cell_type": "code",
   "execution_count": 1,
   "id": "68101025",
   "metadata": {},
   "outputs": [
    {
     "ename": "NameError",
     "evalue": "name 'datacatalog_client' is not defined",
     "output_type": "error",
     "traceback": [
      "\u001b[0;31m---------------------------------------------------------------------------\u001b[0m",
      "\u001b[0;31mNameError\u001b[0m                                 Traceback (most recent call last)",
      "\u001b[0;32m/tmp/ipykernel_1285/2468569614.py\u001b[0m in \u001b[0;36m<module>\u001b[0;34m\u001b[0m\n\u001b[0;32m----> 1\u001b[0;31m \u001b[0mtemp\u001b[0m \u001b[0;34m=\u001b[0m \u001b[0mdatacatalog_client\u001b[0m\u001b[0;34m.\u001b[0m\u001b[0mget_tag_template\u001b[0m\u001b[0;34m(\u001b[0m\u001b[0mexpected_template_name\u001b[0m\u001b[0;34m)\u001b[0m\u001b[0;34m\u001b[0m\u001b[0;34m\u001b[0m\u001b[0m\n\u001b[0m\u001b[1;32m      2\u001b[0m \u001b[0mtemp\u001b[0m\u001b[0;34m\u001b[0m\u001b[0;34m\u001b[0m\u001b[0m\n",
      "\u001b[0;31mNameError\u001b[0m: name 'datacatalog_client' is not defined"
     ]
    }
   ],
   "source": [
    "temp = datacatalog_client.get_tag_template(expected_template_name)\n",
    "temp"
   ]
  },
  {
   "cell_type": "code",
   "execution_count": 15,
   "id": "04455f95",
   "metadata": {},
   "outputs": [
    {
     "name": "stdout",
     "output_type": "stream",
     "text": [
      "landing/template_demo.json\n"
     ]
    }
   ],
   "source": [
    "from google.cloud import storage\n",
    "\n",
    "storage_client = storage.Client(project=\"acn-uki-ds-data-ai-project\")\n",
    "blobs = storage_client.list_blobs(\"uki_ds_data_catalog\", prefix=\"landing/template\")\n",
    "for blob in blobs:\n",
    "    print(blob.name)"
   ]
  },
  {
   "cell_type": "code",
   "execution_count": 29,
   "id": "fb83edc9",
   "metadata": {},
   "outputs": [
    {
     "data": {
      "text/plain": [
       "{'template_id': 'demo_template',\n",
       " 'location': 'europe-west2',\n",
       " 'display_name': 'Demo Tag Template',\n",
       " 'fields': [{'id': 'source',\n",
       "   'display_name': 'Source of data asset',\n",
       "   'type': 'string',\n",
       "   'required': True},\n",
       "  {'id': 'num_rows',\n",
       "   'display_name': 'Number of rows in the data asset',\n",
       "   'type': 'double',\n",
       "   'required': False},\n",
       "  {'id': 'has_pii',\n",
       "   'display_name': 'Has PII',\n",
       "   'type': 'bool',\n",
       "   'required': False},\n",
       "  {'id': 'pii_type',\n",
       "   'display_name': 'PII type',\n",
       "   'type': 'enum',\n",
       "   'allowed_values': ['EMAIL_ADDRESS', 'US_SOCIAL_SECURITY_NUMBER', 'NONE'],\n",
       "   'required': False}]}"
      ]
     },
     "execution_count": 29,
     "metadata": {},
     "output_type": "execute_result"
    }
   ],
   "source": [
    "import json\n",
    "storage_client = storage.Client(project=\"acn-uki-ds-data-ai-project\")\n",
    "bucket = storage_client.get_bucket(\"uki_ds_data_catalog\")\n",
    "template = bucket.blob(\"landing/template_demo.json\")\n",
    "template = json.loads(template.download_as_string())\n",
    "template"
   ]
  },
  {
   "cell_type": "code",
   "execution_count": 7,
   "id": "9b172e32",
   "metadata": {},
   "outputs": [
    {
     "name": "stdout",
     "output_type": "stream",
     "text": [
      "Help on method list_blobs in module google.cloud.storage.client:\n",
      "\n",
      "list_blobs(bucket_or_name, max_results=None, page_token=None, prefix=None, delimiter=None, start_offset=None, end_offset=None, include_trailing_delimiter=None, versions=None, projection='noAcl', fields=None, page_size=None, timeout=60, retry=<google.api_core.retry.Retry object at 0x7f490ca81940>) method of google.cloud.storage.client.Client instance\n",
      "    Return an iterator used to find blobs in the bucket.\n",
      "    \n",
      "    If :attr:`user_project` is set, bills the API request to that project.\n",
      "    \n",
      "    Args:\n",
      "        bucket_or_name (Union[                 :class:`~google.cloud.storage.bucket.Bucket`,                  str,             ]):\n",
      "            The bucket resource to pass or name to create.\n",
      "    \n",
      "        max_results (int):\n",
      "            (Optional) The maximum number of blobs to return.\n",
      "    \n",
      "        page_token (str):\n",
      "            (Optional) If present, return the next batch of blobs, using the\n",
      "            value, which must correspond to the ``nextPageToken`` value\n",
      "            returned in the previous response.  Deprecated: use the ``pages``\n",
      "            property of the returned iterator instead of manually passing the\n",
      "            token.\n",
      "    \n",
      "        prefix (str):\n",
      "            (Optional) Prefix used to filter blobs.\n",
      "    \n",
      "        delimiter (str):\n",
      "            (Optional) Delimiter, used with ``prefix`` to\n",
      "            emulate hierarchy.\n",
      "    \n",
      "        start_offset (str):\n",
      "            (Optional) Filter results to objects whose names are\n",
      "            lexicographically equal to or after ``startOffset``. If\n",
      "            ``endOffset`` is also set, the objects listed will have names\n",
      "            between ``startOffset`` (inclusive) and ``endOffset``\n",
      "            (exclusive).\n",
      "    \n",
      "        end_offset (str):\n",
      "            (Optional) Filter results to objects whose names are\n",
      "            lexicographically before ``endOffset``. If ``startOffset`` is\n",
      "            also set, the objects listed will have names between\n",
      "            ``startOffset`` (inclusive) and ``endOffset`` (exclusive).\n",
      "    \n",
      "        include_trailing_delimiter (boolean):\n",
      "            (Optional) If true, objects that end in exactly one instance of\n",
      "            ``delimiter`` will have their metadata included in ``items`` in\n",
      "            addition to ``prefixes``.\n",
      "    \n",
      "        versions (bool):\n",
      "            (Optional) Whether object versions should be returned\n",
      "            as separate blobs.\n",
      "    \n",
      "        projection (str):\n",
      "            (Optional) If used, must be 'full' or 'noAcl'.\n",
      "            Defaults to ``'noAcl'``. Specifies the set of\n",
      "            properties to return.\n",
      "    \n",
      "        fields (str):\n",
      "            (Optional) Selector specifying which fields to include\n",
      "            in a partial response. Must be a list of fields. For\n",
      "            example to get a partial response with just the next\n",
      "            page token and the name and language of each blob returned:\n",
      "            ``'items(name,contentLanguage),nextPageToken'``.\n",
      "            See: https://cloud.google.com/storage/docs/json_api/v1/parameters#fields\n",
      "    \n",
      "        page_size (int):\n",
      "            (Optional) Maximum number of blobs to return in each page.\n",
      "            Defaults to a value set by the API.\n",
      "    \n",
      "        timeout (Optional[Union[float, Tuple[float, float]]]):\n",
      "            The amount of time, in seconds, to wait for the server response.\n",
      "    \n",
      "            Can also be passed as a tuple (connect_timeout, read_timeout).\n",
      "            See :meth:`requests.Session.request` documentation for details.\n",
      "    \n",
      "        retry (Optional[Union[google.api_core.retry.Retry, google.cloud.storage.retry.ConditionalRetryPolicy]]):\n",
      "            How to retry the RPC. A None value will disable retries.\n",
      "            A google.api_core.retry.Retry value will enable retries, and the object will\n",
      "            define retriable response codes and errors and configure backoff and timeout options.\n",
      "    \n",
      "            A google.cloud.storage.retry.ConditionalRetryPolicy value wraps a Retry object and\n",
      "            activates it only if certain conditions are met. This class exists to provide safe defaults\n",
      "            for RPC calls that are not technically safe to retry normally (due to potential data\n",
      "            duplication or other side-effects) but become safe to retry if a condition such as\n",
      "            if_metageneration_match is set.\n",
      "    \n",
      "            See the retry.py source code and docstrings in this package (google.cloud.storage.retry) for\n",
      "            information on retry types and how to configure them.\n",
      "    \n",
      "    Returns:\n",
      "        Iterator of all :class:`~google.cloud.storage.blob.Blob`\n",
      "        in this bucket matching the arguments.\n",
      "    \n",
      "    Example:\n",
      "        List blobs in the bucket with user_project.\n",
      "    \n",
      "        >>> from google.cloud import storage\n",
      "        >>> client = storage.Client()\n",
      "    \n",
      "        >>> bucket = storage.Bucket(client, \"my-bucket-name\", user_project=\"my-project\")\n",
      "        >>> all_blobs = list(client.list_blobs(bucket))\n",
      "\n"
     ]
    }
   ],
   "source": [
    "help(storage_client.list_blobs)"
   ]
  }
 ],
 "metadata": {
  "kernelspec": {
   "display_name": "Python 3 (ipykernel)",
   "language": "python",
   "name": "python3"
  },
  "language_info": {
   "codemirror_mode": {
    "name": "ipython",
    "version": 3
   },
   "file_extension": ".py",
   "mimetype": "text/x-python",
   "name": "python",
   "nbconvert_exporter": "python",
   "pygments_lexer": "ipython3",
   "version": "3.8.10"
  }
 },
 "nbformat": 4,
 "nbformat_minor": 5
}
